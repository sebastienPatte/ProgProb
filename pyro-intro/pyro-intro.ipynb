{
 "cells": [
  {
   "cell_type": "markdown",
   "id": "ebd6a5c9-c584-4c77-b362-a5f3c4b9a5b5",
   "metadata": {},
   "source": [
    "# Une courte introduction à Pyro\n",
    "\n",
    "https://pyro.ai/\n",
    "\n",
    "Pyro est un langage probabiliste construit sur Python et PyTorch.\n",
    "\n",
    "Comparé aux autres langages probabilistes, Pyro a mis l'accent sur l'inférence variationelle (SVI).\n",
    "PyTorch permet par ailleurs d'intégrer des réseaux de neurones complets dans les modèles probabilistes pour capturer des interactions complexes entre variables aléatoires.\n",
    "\n"
   ]
  },
  {
   "cell_type": "code",
   "execution_count": 1,
   "id": "7a589434-61db-4132-af8e-caea2baf7891",
   "metadata": {},
   "outputs": [],
   "source": [
    "import pyro\n",
    "from pyro.distributions import Uniform, Bernoulli, Beta, Normal\n",
    "from pyro.infer import SVI, Trace_ELBO, MCMC, NUTS, Predictive\n",
    "from pyro.optim import Adam\n",
    "import pyro.infer.autoguide as autoguide\n",
    "\n",
    "import torch \n",
    "import torch.distributions.constraints as constraints\n",
    "\n",
    "from tqdm import tqdm"
   ]
  },
  {
   "cell_type": "markdown",
   "id": "ae3279b8-e0c1-4a53-925e-12fa70ca5376",
   "metadata": {},
   "source": [
    "## Exercice 1 : Inférence multiple pour une pièce biaisée.\n",
    "\n",
    "**Objectif.** L'objectif de cet exercice est de se familiariser avec Pyro et plusieurs techniques d'inférence sur un modèle bien connu.\n",
    "\n",
    "Les primitives Pyro sont les suivantes:\n",
    "\n",
    "- `x = pyro.sample('x', d)` implémente la construction `sample`\n",
    "- `pyro.sample('y', d, obs = y)` implémente la construction `observe`\n",
    "\n",
    "Remarque : En Pyro, les variables aléatoires (introduites par `sample`, observées ou non) doivent être associées à un nom unique le *sample site*. En général, on utilise le nom de la variable sauf en cas de conflit.\n",
    "\n",
    "### Modèle\n",
    "\n",
    "**Question 1** Implémenter le modèle de la pièce biaisé en Pyro. On utilisera une boucle Python pour itérer sur le tableau de données (attention au nommage des variables aléatoires)."
   ]
  },
  {
   "cell_type": "code",
   "execution_count": 2,
   "id": "827ccacf-ac97-4167-9300-84378d2a655f",
   "metadata": {},
   "outputs": [],
   "source": [
    "def model(x):\n",
    "    z = pyro.sample('x', Uniform(0.,1.))\n",
    "    for i in range(len(x)):\n",
    "        pyro.sample(f\"x{i}\", Bernoulli(z), obs=x[i])"
   ]
  },
  {
   "cell_type": "markdown",
   "id": "1e5415d3-fca2-4233-8218-dcaefa622af1",
   "metadata": {},
   "source": [
    "### SVI\n",
    "\n",
    "Il faut maintenant définir un guide (une famille variationnelle) pour SVI.\n",
    "Le guide doit échantillonner les mêmes variables que le modèle (ici `z`) sur le même domaine de définition (ici $[0, 1]$).\n",
    "Le guide doit également avoir la même signature que le modèle (entrées et sorties).\n",
    "\n",
    "Les paramètres du guide sont introduits à l'aide de la primitive `pyro.param('p', v0, constraint=c)`.\n",
    "Chaque paramètre est associé à un nom unique et une valeur initiale.\n",
    "Le paramètre optionnel `constraint` permet de spécifier des contraintes (cf `torch.distributions.constraints`), par exemple `constraints.positive`.\n",
    "\n",
    "\n",
    "**Question 2** Implémenter un guide pour le modèle précédent.\n",
    "\n",
    "_Note_: On pourra par exemple chercher une distribution $\\mathit{Beta}(\\alpha, \\beta)$ où $\\alpha \\geq 0$ et $\\beta \\geq 0$ sont les paramètres de la famille variationnelle. "
   ]
  },
  {
   "cell_type": "code",
   "execution_count": 3,
   "id": "9afb99a1-7f4c-40a5-aeec-556a87c0aaea",
   "metadata": {},
   "outputs": [],
   "source": [
    "def guide(x):\n",
    "    alpha = pyro.param('alpha', torch.tensor(1.), constraint=constraints.positive)\n",
    "    beta = pyro.param('beta', torch.tensor(1.), constraint=constraints.positive)\n",
    "    z = pyro.sample('x', Beta(alpha,beta))"
   ]
  },
  {
   "cell_type": "markdown",
   "id": "7ec76a6c-3665-4e63-b204-45ead4740c63",
   "metadata": {},
   "source": [
    "Il ne reste plus qu'à lancer l'inférence.\n",
    "Pyro utilise les _optimizers_ de PyTorch comme `Adam` pour trouver la valeur des paramètres du guide.\n",
    "\n",
    "_Note_: L'ajout de noms uniques permet à Pyro de croiser les variables aléatoires du modèle et du guide pour résoudre le problème d'optimisation (toutes les variables sont ajoutées à un environnement global, on peut donc y acceder en dehors des fonctions `model` et `guide`).\n",
    "Malheureusement, on perd ainsi la portée des variables et c'est au programmeur d'éviter les conflits de noms."
   ]
  },
  {
   "cell_type": "code",
   "execution_count": 4,
   "id": "a9c756d4-e5e6-445e-9bbf-1beb9f5e2515",
   "metadata": {},
   "outputs": [],
   "source": [
    "def train(model, guide, data, n_steps = 5000):\n",
    "    # optimizer\n",
    "    optimizer = Adam({\"lr\": 0.0005, \"betas\": (0.90, 0.999)})\n",
    "    # create svi object from model and guide to run inference\n",
    "    svi = SVI(model, guide, optimizer, loss=Trace_ELBO())\n",
    "    # do gradient steps\n",
    "    for step in tqdm(range(n_steps), ncols=80):\n",
    "        svi.step(data)"
   ]
  },
  {
   "cell_type": "code",
   "execution_count": null,
   "id": "6bae0c28-6bc9-4563-adf0-d79a4817c741",
   "metadata": {},
   "outputs": [
    {
     "name": "stderr",
     "output_type": "stream",
     "text": [
      " 16%|██████▏                               | 1612/10000 [00:18<01:27, 95.49it/s]"
     ]
    }
   ],
   "source": [
    "data = torch.tensor([1., 1., 0., 0., 0., 0., 0., 0., 0., 0.])\n",
    "\n",
    "train(model, guide, data, n_steps= 10000)"
   ]
  },
  {
   "cell_type": "markdown",
   "id": "60536c34-6815-43ed-9486-282f0292264f",
   "metadata": {},
   "source": [
    "Une fois l'inférence terminée on peut récuperer la valeur finale des paramètres et calculer les moments de la distibution $\\mathit{Beta}$ obtenue.\n",
    "\n",
    "**Question 3.** Calculer ces moments (cf $\\mathit{Beta}$ distribution) à partir des valeurs de $\\alpha$ et $\\beta$."
   ]
  },
  {
   "cell_type": "code",
   "execution_count": 17,
   "id": "0d7e6f86-0a6b-4a99-a102-d664365d5fa5",
   "metadata": {},
   "outputs": [
    {
     "name": "stdout",
     "output_type": "stream",
     "text": [
      "Mean: 0.5011894850022871, Std: 0.5745908054667463\n"
     ]
    }
   ],
   "source": [
    "alpha = pyro.param(\"alpha\").item()\n",
    "beta = pyro.param(\"beta\").item()\n",
    "\n",
    "mean = alpha / (alpha+beta)\n",
    "std = (beta / (alpha * (1. + alpha + beta))) ** (1/2) \n",
    "\n",
    "print(f\"Mean: {mean}, Std: {std}\")"
   ]
  },
  {
   "cell_type": "markdown",
   "id": "1831d66c-0be6-41df-a9f0-ee797b9fad1c",
   "metadata": {},
   "source": [
    "### Autoguide\n",
    "\n",
    "En pratique programmer un guide peut être difficile.\n",
    "Pyro offre un zoo d'autoguides qui sont synthétisés à partir du modèle.\n",
    "\n",
    "Par exemple, le plus simple `AutoDelta` cherche une distribution de Dirac (un maximum à posteriori)."
   ]
  },
  {
   "cell_type": "code",
   "execution_count": 18,
   "id": "66c2d622-2763-4e15-b362-c17120bc3a8a",
   "metadata": {},
   "outputs": [
    {
     "name": "stderr",
     "output_type": "stream",
     "text": [
      "100%|██████████████████████████████████████| 5000/5000 [00:44<00:00, 111.96it/s]\n"
     ]
    }
   ],
   "source": [
    "guide = autoguide.AutoDelta(model)\n",
    "train(model, guide, data)"
   ]
  },
  {
   "cell_type": "markdown",
   "id": "1d90477f-802f-48fd-89ce-3ab9a9285799",
   "metadata": {},
   "source": [
    "On peut ensuite afficher l'ensemble des paramètres calculés par Pyro.\n",
    "Le paramètre `AutoDelta.z` vient du guide synthétisé par `AutoDelta`."
   ]
  },
  {
   "cell_type": "code",
   "execution_count": 21,
   "id": "5d721443-7746-4c4f-9ec5-81d84727a3ff",
   "metadata": {},
   "outputs": [
    {
     "name": "stdout",
     "output_type": "stream",
     "text": [
      "alpha tensor(1.0096, grad_fn=<AddBackward0>)\n",
      "beta tensor(1.0049, grad_fn=<AddBackward0>)\n",
      "AutoDelta.x tensor(0.2002, grad_fn=<ClampBackward1>)\n"
     ]
    }
   ],
   "source": [
    "for name, value in pyro.get_param_store().items():\n",
    "    print(name, pyro.param(name))"
   ]
  },
  {
   "cell_type": "markdown",
   "id": "e2b3d530-450c-49a0-813f-577f067ab846",
   "metadata": {},
   "source": [
    "_Note_: Le `param_store` contient tous les paramètres calculés depuis le début de la session Python.\n",
    "Il peut être réinitialisé avec la commande `pyro.clear_param_store()`.\n",
    "\n",
    "_Note_: Attention l'inférence est exécutée dans un espace non-contraint ($\\mathbb{R}^n$).\n",
    "Les resultats qui apparaissent dans le `param_store` sont donc transformés (essayer`AutoNormal` par exemple).\n",
    "On peut utiliser les fonctions Pyro `guide.median()` ou `guide.quantiles([0.25, 0.5, 0.75])` pour obtenir des résultats directement interpretables."
   ]
  },
  {
   "cell_type": "code",
   "execution_count": 22,
   "id": "54113c29-1173-4e75-8aa1-4af92300f9c1",
   "metadata": {},
   "outputs": [
    {
     "name": "stdout",
     "output_type": "stream",
     "text": [
      "Median: {'x': tensor(0.2002)}\n"
     ]
    }
   ],
   "source": [
    "print(f\"Median: {guide.median()}\")"
   ]
  },
  {
   "cell_type": "markdown",
   "id": "98d73570-d689-4c78-8066-8bba6d06b6b6",
   "metadata": {},
   "source": [
    "On peut également appeler directement le guide après l'inférence pour générer des échantillons (par défaut un objet contenant toutes les variables latentes du guide).\n",
    "Pour `AutoDelta`, on renvoie toujours la même valeur (Dirac), mais d'autres guides génèrent des échantillons différents à chaque appel. "
   ]
  },
  {
   "cell_type": "code",
   "execution_count": 23,
   "id": "ba56cfa2-9204-4f7c-9676-21a0ec8eda02",
   "metadata": {},
   "outputs": [
    {
     "name": "stdout",
     "output_type": "stream",
     "text": [
      "{'x': tensor(0.2002, grad_fn=<ExpandBackward0>)}\n",
      "{'x': tensor(0.2002, grad_fn=<ExpandBackward0>)}\n",
      "{'x': tensor(0.2002, grad_fn=<ExpandBackward0>)}\n",
      "{'x': tensor(0.2002, grad_fn=<ExpandBackward0>)}\n",
      "{'x': tensor(0.2002, grad_fn=<ExpandBackward0>)}\n"
     ]
    }
   ],
   "source": [
    "for i in range(5):\n",
    "    print(guide(data))"
   ]
  },
  {
   "cell_type": "markdown",
   "id": "c553af4c-48e6-47c8-9608-b7f59feea41d",
   "metadata": {},
   "source": [
    "**Question 4.** Essayer d'autres autoguides pour le même modèle."
   ]
  },
  {
   "cell_type": "code",
   "execution_count": 24,
   "id": "9a8cf5c7-f301-4c64-987d-519b4454a449",
   "metadata": {},
   "outputs": [],
   "source": [
    "# TODO"
   ]
  },
  {
   "cell_type": "code",
   "execution_count": 25,
   "id": "66194786-5dcb-4b39-ba5b-32c21a875e03",
   "metadata": {},
   "outputs": [],
   "source": [
    "# TODO"
   ]
  },
  {
   "cell_type": "markdown",
   "id": "db46a761-3dec-4312-bbc8-60ebc2335459",
   "metadata": {},
   "source": [
    "### MCMC\n",
    "\n",
    "Pyro permet de tester plusieurs méthodes d'inférence sur le même modèle. \n",
    "On peut par exemple essayer NUTS, un noyau optimisé de Hamiltonian Monte Carlo pour MCMC (qui est aussi la méthode d'inférence par defaut de Stan)."
   ]
  },
  {
   "cell_type": "code",
   "execution_count": 26,
   "id": "fcc9c774-2065-457b-98ac-8dfb8d848fbd",
   "metadata": {},
   "outputs": [
    {
     "name": "stderr",
     "output_type": "stream",
     "text": [
      "Sample: 100%|█| 1100/1100 [00:08, 135.03it/s, step size=1.52e+00, acc. prob=0.922\n"
     ]
    }
   ],
   "source": [
    "kernel = NUTS(model, jit_compile=True, ignore_jit_warnings=True)\n",
    "posterior = MCMC(kernel, num_samples=1000, warmup_steps=100)\n",
    "posterior.run(data)"
   ]
  },
  {
   "cell_type": "markdown",
   "id": "57aefe36-7602-4aa2-bce7-54f8e165263e",
   "metadata": {},
   "source": [
    "Pour récupérer les échantillons de la distribution à posteriori, on peut appeler la methode `get_samples` sur `posterior`."
   ]
  },
  {
   "cell_type": "code",
   "execution_count": 27,
   "id": "c5e44836-900f-4e55-9e91-e0d1eaa3b948",
   "metadata": {},
   "outputs": [
    {
     "data": {
      "text/plain": [
       "{'x': tensor([0.5140, 0.4411, 0.5621, 0.5819, 0.5385, 0.1150, 0.1305, 0.0827, 0.2797,\n",
       "         0.3764, 0.3749, 0.2581, 0.1514, 0.1063, 0.3619, 0.3795, 0.2652, 0.3239,\n",
       "         0.0861, 0.1073, 0.2111, 0.1025, 0.0904, 0.2393, 0.2848, 0.3684, 0.1926,\n",
       "         0.4246, 0.1054, 0.6552, 0.4819, 0.2640, 0.2167, 0.4041, 0.3288, 0.2984,\n",
       "         0.2855, 0.3191, 0.3433, 0.3433, 0.3957, 0.2173, 0.1869, 0.1304, 0.1112,\n",
       "         0.0767, 0.0917, 0.0640, 0.2155, 0.2305, 0.2379, 0.3258, 0.3258, 0.1700,\n",
       "         0.2042, 0.2528, 0.3541, 0.1071, 0.3109, 0.2998, 0.2584, 0.2446, 0.0762,\n",
       "         0.0644, 0.0731, 0.2302, 0.2182, 0.2372, 0.3973, 0.1507, 0.2849, 0.1164,\n",
       "         0.0797, 0.2312, 0.3577, 0.3007, 0.2474, 0.2170, 0.2460, 0.2288, 0.2303,\n",
       "         0.3411, 0.3411, 0.2698, 0.1132, 0.1293, 0.0914, 0.0731, 0.0423, 0.0395,\n",
       "         0.0495, 0.0759, 0.1170, 0.2058, 0.2091, 0.2566, 0.1324, 0.1547, 0.1209,\n",
       "         0.2814, 0.1627, 0.4418, 0.2095, 0.1796, 0.2735, 0.2544, 0.2544, 0.3857,\n",
       "         0.2509, 0.4343, 0.3493, 0.2122, 0.0601, 0.1296, 0.4359, 0.2559, 0.1747,\n",
       "         0.2766, 0.4249, 0.2593, 0.1998, 0.3086, 0.3953, 0.1562, 0.2925, 0.3749,\n",
       "         0.3348, 0.4449, 0.3605, 0.2373, 0.2397, 0.1762, 0.2957, 0.2206, 0.3318,\n",
       "         0.2386, 0.2803, 0.2746, 0.2746, 0.2746, 0.2283, 0.2219, 0.2219, 0.2756,\n",
       "         0.3058, 0.3193, 0.3266, 0.4202, 0.2629, 0.3465, 0.3710, 0.4745, 0.3733,\n",
       "         0.4285, 0.2952, 0.2952, 0.2952, 0.1051, 0.2368, 0.3955, 0.2375, 0.2635,\n",
       "         0.3298, 0.4196, 0.2070, 0.2521, 0.1871, 0.1829, 0.1756, 0.1756, 0.2660,\n",
       "         0.1541, 0.1907, 0.2530, 0.2356, 0.4974, 0.4974, 0.3789, 0.2732, 0.2399,\n",
       "         0.1995, 0.1440, 0.3983, 0.1016, 0.1702, 0.2138, 0.2458, 0.1015, 0.0798,\n",
       "         0.1001, 0.2667, 0.2259, 0.2441, 0.1250, 0.0932, 0.2791, 0.2791, 0.2791,\n",
       "         0.4950, 0.3293, 0.2986, 0.2986, 0.2986, 0.2838, 0.1554, 0.2799, 0.3067,\n",
       "         0.2102, 0.1674, 0.2659, 0.2659, 0.2002, 0.1444, 0.1550, 0.1799, 0.0821,\n",
       "         0.0322, 0.0419, 0.0656, 0.0463, 0.0636, 0.1589, 0.1200, 0.1414, 0.1170,\n",
       "         0.3544, 0.3320, 0.2396, 0.4064, 0.2152, 0.1772, 0.3377, 0.0691, 0.1003,\n",
       "         0.1072, 0.2501, 0.2201, 0.2201, 0.3663, 0.3458, 0.2853, 0.3268, 0.2289,\n",
       "         0.2074, 0.2208, 0.3631, 0.3988, 0.3518, 0.4764, 0.3862, 0.3862, 0.3352,\n",
       "         0.2035, 0.3758, 0.4119, 0.3433, 0.3142, 0.2670, 0.2059, 0.1841, 0.3799,\n",
       "         0.4127, 0.2637, 0.3862, 0.3880, 0.5318, 0.1864, 0.2933, 0.2897, 0.1738,\n",
       "         0.3922, 0.2057, 0.3607, 0.3082, 0.2784, 0.1498, 0.1560, 0.1184, 0.2773,\n",
       "         0.2688, 0.3276, 0.2978, 0.3293, 0.2827, 0.1318, 0.5456, 0.1936, 0.3774,\n",
       "         0.3774, 0.3139, 0.2168, 0.3325, 0.1977, 0.1462, 0.0721, 0.1210, 0.1327,\n",
       "         0.1420, 0.1638, 0.1582, 0.1665, 0.1682, 0.2019, 0.2548, 0.2456, 0.2339,\n",
       "         0.2035, 0.2669, 0.2794, 0.2717, 0.2258, 0.1896, 0.3880, 0.1567, 0.2134,\n",
       "         0.3527, 0.3527, 0.3150, 0.0676, 0.0533, 0.1617, 0.3025, 0.1936, 0.1817,\n",
       "         0.1610, 0.3826, 0.1951, 0.2927, 0.1576, 0.1007, 0.2990, 0.2962, 0.1630,\n",
       "         0.2532, 0.1110, 0.2183, 0.1677, 0.3415, 0.3303, 0.3802, 0.3832, 0.3006,\n",
       "         0.3478, 0.2323, 0.1306, 0.0963, 0.1410, 0.1570, 0.2356, 0.1925, 0.1965,\n",
       "         0.2075, 0.1797, 0.2142, 0.3184, 0.1409, 0.1345, 0.1113, 0.2938, 0.2938,\n",
       "         0.2083, 0.2120, 0.2120, 0.1900, 0.2696, 0.2331, 0.1739, 0.1584, 0.1493,\n",
       "         0.0783, 0.0500, 0.0713, 0.0775, 0.0856, 0.1102, 0.2926, 0.1506, 0.1083,\n",
       "         0.1836, 0.2153, 0.2660, 0.2652, 0.1831, 0.2590, 0.1686, 0.1373, 0.1197,\n",
       "         0.1191, 0.1368, 0.2896, 0.0597, 0.2046, 0.2705, 0.3690, 0.4577, 0.1639,\n",
       "         0.1275, 0.1547, 0.1731, 0.2245, 0.2413, 0.2413, 0.2164, 0.2125, 0.1134,\n",
       "         0.2444, 0.1745, 0.1846, 0.3465, 0.1788, 0.0458, 0.3501, 0.3501, 0.3426,\n",
       "         0.2740, 0.3056, 0.1497, 0.2239, 0.3499, 0.2634, 0.2142, 0.2179, 0.3289,\n",
       "         0.3687, 0.4199, 0.2386, 0.1862, 0.2213, 0.2898, 0.3468, 0.2680, 0.3613,\n",
       "         0.2710, 0.2710, 0.3770, 0.2064, 0.0410, 0.3227, 0.3153, 0.3180, 0.1088,\n",
       "         0.0907, 0.2811, 0.2707, 0.1896, 0.1552, 0.2657, 0.2369, 0.2304, 0.2505,\n",
       "         0.1899, 0.1288, 0.1191, 0.3302, 0.3727, 0.2792, 0.3032, 0.3454, 0.2620,\n",
       "         0.2632, 0.0854, 0.1275, 0.0624, 0.0798, 0.0989, 0.2020, 0.2625, 0.5027,\n",
       "         0.2341, 0.3168, 0.2135, 0.2228, 0.2588, 0.2609, 0.2376, 0.2177, 0.1852,\n",
       "         0.3925, 0.4927, 0.3518, 0.3518, 0.2006, 0.1876, 0.1971, 0.1729, 0.2500,\n",
       "         0.4362, 0.4913, 0.3011, 0.3011, 0.2901, 0.2722, 0.3009, 0.1185, 0.1925,\n",
       "         0.1444, 0.0409, 0.0434, 0.1123, 0.1458, 0.1301, 0.1419, 0.5126, 0.5566,\n",
       "         0.3928, 0.4235, 0.4235, 0.4743, 0.4743, 0.2011, 0.2611, 0.2606, 0.1463,\n",
       "         0.1924, 0.0560, 0.0501, 0.1031, 0.1111, 0.1195, 0.1667, 0.1368, 0.1968,\n",
       "         0.3194, 0.1879, 0.1983, 0.2726, 0.2074, 0.2026, 0.0999, 0.3139, 0.1309,\n",
       "         0.0860, 0.1535, 0.1293, 0.2928, 0.3205, 0.3665, 0.3261, 0.3004, 0.2804,\n",
       "         0.0911, 0.1284, 0.2965, 0.3730, 0.3278, 0.1041, 0.1014, 0.4316, 0.4316,\n",
       "         0.3529, 0.3241, 0.2402, 0.1807, 0.1892, 0.1971, 0.2374, 0.1252, 0.1694,\n",
       "         0.0716, 0.0473, 0.0323, 0.0527, 0.0791, 0.1921, 0.1355, 0.1264, 0.1522,\n",
       "         0.2127, 0.0807, 0.2218, 0.1953, 0.0668, 0.3964, 0.4015, 0.1960, 0.2182,\n",
       "         0.1271, 0.1697, 0.2088, 0.2106, 0.2253, 0.1860, 0.2250, 0.2660, 0.1761,\n",
       "         0.1733, 0.1981, 0.1788, 0.1482, 0.1280, 0.1489, 0.1072, 0.1136, 0.1606,\n",
       "         0.0957, 0.0760, 0.0860, 0.0881, 0.2404, 0.3056, 0.3893, 0.3893, 0.3196,\n",
       "         0.1077, 0.3000, 0.3281, 0.1703, 0.1890, 0.2826, 0.1520, 0.1375, 0.2430,\n",
       "         0.3243, 0.2853, 0.1785, 0.3234, 0.4208, 0.2337, 0.2337, 0.1187, 0.1055,\n",
       "         0.1660, 0.2040, 0.2289, 0.2105, 0.1796, 0.2922, 0.2443, 0.2443, 0.2443,\n",
       "         0.1613, 0.3638, 0.3595, 0.4545, 0.3025, 0.2671, 0.0533, 0.0539, 0.0673,\n",
       "         0.0672, 0.2849, 0.2762, 0.1058, 0.1378, 0.2441, 0.2304, 0.1939, 0.2404,\n",
       "         0.2608, 0.1819, 0.2015, 0.1154, 0.0528, 0.0822, 0.2275, 0.2435, 0.4630,\n",
       "         0.4854, 0.3892, 0.1758, 0.1596, 0.1900, 0.3874, 0.2070, 0.1856, 0.4318,\n",
       "         0.1917, 0.1188, 0.1806, 0.1739, 0.2026, 0.4660, 0.4133, 0.2587, 0.3079,\n",
       "         0.2578, 0.2046, 0.1783, 0.1843, 0.2946, 0.2946, 0.2989, 0.2735, 0.1686,\n",
       "         0.4719, 0.5948, 0.3633, 0.2074, 0.1800, 0.3515, 0.2152, 0.3559, 0.4606,\n",
       "         0.2366, 0.3527, 0.3527, 0.2771, 0.2446, 0.2981, 0.2733, 0.2995, 0.3053,\n",
       "         0.3795, 0.4585, 0.3940, 0.6671, 0.3940, 0.1918, 0.3317, 0.2799, 0.2671,\n",
       "         0.1460, 0.2975, 0.3216, 0.1252, 0.2000, 0.2428, 0.2142, 0.1993, 0.1993,\n",
       "         0.3174, 0.1201, 0.1345, 0.1050, 0.2691, 0.3945, 0.5284, 0.1196, 0.1280,\n",
       "         0.1445, 0.5213, 0.3858, 0.3858, 0.3394, 0.3394, 0.3294, 0.3093, 0.3525,\n",
       "         0.1948, 0.2686, 0.1831, 0.2168, 0.3081, 0.0962, 0.1167, 0.1234, 0.0556,\n",
       "         0.1633, 0.3854, 0.2344, 0.2373, 0.3079, 0.1081, 0.0876, 0.3073, 0.3828,\n",
       "         0.4591, 0.2298, 0.1813, 0.1741, 0.2311, 0.2552, 0.2329, 0.1511, 0.1500,\n",
       "         0.1507, 0.2068, 0.2202, 0.1049, 0.1376, 0.2121, 0.2196, 0.1606, 0.2997,\n",
       "         0.2997, 0.1518, 0.1948, 0.1439, 0.2435, 0.2207, 0.2212, 0.2542, 0.2796,\n",
       "         0.2796, 0.2044, 0.1647, 0.3234, 0.2775, 0.3011, 0.1763, 0.4122, 0.1286,\n",
       "         0.0416, 0.0399, 0.3084, 0.2061, 0.2149, 0.0709, 0.2009, 0.3515, 0.3405,\n",
       "         0.2476, 0.2132, 0.1295, 0.2545, 0.1419, 0.2845, 0.2256, 0.2367, 0.2154,\n",
       "         0.2765, 0.2765, 0.0858, 0.1581, 0.2877, 0.3462, 0.3384, 0.3403, 0.1959,\n",
       "         0.2655, 0.2022, 0.2674, 0.3152, 0.2797, 0.0974, 0.0645, 0.0549, 0.1500,\n",
       "         0.4977, 0.3622, 0.1615, 0.5332, 0.5332, 0.3003, 0.1435, 0.2919, 0.3814,\n",
       "         0.1802, 0.1687, 0.1876, 0.1876, 0.1833, 0.2039, 0.1741, 0.2020, 0.1855,\n",
       "         0.2661, 0.1674, 0.1674, 0.1751, 0.2326, 0.2312, 0.2433, 0.2703, 0.2006,\n",
       "         0.1662, 0.1735, 0.1527, 0.1355, 0.1500, 0.1314, 0.1057, 0.2272, 0.1977,\n",
       "         0.2306, 0.3183, 0.2888, 0.3219, 0.4324, 0.5108, 0.1689, 0.3743, 0.3333,\n",
       "         0.3990, 0.4873, 0.3532, 0.1675, 0.0809, 0.2915, 0.2880, 0.2671, 0.2697,\n",
       "         0.2414, 0.1809, 0.1860, 0.2693, 0.2762, 0.2762, 0.2189, 0.1712, 0.1587,\n",
       "         0.1341, 0.0986, 0.1995, 0.0678, 0.0465, 0.1509, 0.1552, 0.2068, 0.5175,\n",
       "         0.2245, 0.2661, 0.1507, 0.2485, 0.4004, 0.4004, 0.4042, 0.2089, 0.2046,\n",
       "         0.2766, 0.2854, 0.0550, 0.1123, 0.2837, 0.0764, 0.1767, 0.1629, 0.2304,\n",
       "         0.2261, 0.2995, 0.2897, 0.3408, 0.2324, 0.3324, 0.2414, 0.2414, 0.3658,\n",
       "         0.2137, 0.0818, 0.1987, 0.2847, 0.3391, 0.4053, 0.5011, 0.1341, 0.0942,\n",
       "         0.0847, 0.0933, 0.1015, 0.1167, 0.2936, 0.2072, 0.2661, 0.1571, 0.2254,\n",
       "         0.2184, 0.2184, 0.1262, 0.2918, 0.3421, 0.3421, 0.3134, 0.2921, 0.1694,\n",
       "         0.2921, 0.2226, 0.2236, 0.3057, 0.4926, 0.5111, 0.2172, 0.2201, 0.2365,\n",
       "         0.2489, 0.1956, 0.1956, 0.1568, 0.1253, 0.2807, 0.3593, 0.0868, 0.1524,\n",
       "         0.0776, 0.1198, 0.3075, 0.2214, 0.3368, 0.3368, 0.2829, 0.2013, 0.1982,\n",
       "         0.3721, 0.1540, 0.0807, 0.1862, 0.2806, 0.2025, 0.2012, 0.1955, 0.1979,\n",
       "         0.2454, 0.2480, 0.1738, 0.0928, 0.1155, 0.1785, 0.1544, 0.2864, 0.2378,\n",
       "         0.2325])}"
      ]
     },
     "execution_count": 27,
     "metadata": {},
     "output_type": "execute_result"
    }
   ],
   "source": [
    "posterior.get_samples()"
   ]
  },
  {
   "cell_type": "markdown",
   "id": "1f2e6484-b4d5-45ff-ae78-5b0471384335",
   "metadata": {},
   "source": [
    "**Question 5.** En déduire les moments de la distribution obtenue."
   ]
  },
  {
   "cell_type": "code",
   "execution_count": 1,
   "id": "a19b8eb0-ee0c-45cc-a7ae-f3937c89fda6",
   "metadata": {},
   "outputs": [
    {
     "ename": "SyntaxError",
     "evalue": "cannot assign to function call (3446353137.py, line 5)",
     "output_type": "error",
     "traceback": [
      "\u001b[0;36m  File \u001b[0;32m\"/tmp/ipykernel_10467/3446353137.py\"\u001b[0;36m, line \u001b[0;32m5\u001b[0m\n\u001b[0;31m    samples['z'].mean()=tensor(0.2470)\u001b[0m\n\u001b[0m    ^\u001b[0m\n\u001b[0;31mSyntaxError\u001b[0m\u001b[0;31m:\u001b[0m cannot assign to function call\n"
     ]
    }
   ],
   "source": [
    "samples = posterior.get_samples()\n",
    "print(f\"Mean: {samples['z'].mean()}\")\n",
    "print(f\"Std: {samples['z'].std()}\")\n",
    "\n",
    "samples['z'].mean()=tensor(0.2470)\n",
    "samples['z'].std()=tensor(0.1231)"
   ]
  },
  {
   "cell_type": "markdown",
   "id": "4468360c-20ba-4feb-ae8d-b88129b9af80",
   "metadata": {},
   "source": [
    "On peut également utiliser la méthode `posterior.summary()`."
   ]
  },
  {
   "cell_type": "code",
   "execution_count": null,
   "id": "f0916020-dc4b-4276-bcd2-8c7688d8f408",
   "metadata": {},
   "outputs": [],
   "source": [
    "posterior.summary()"
   ]
  },
  {
   "cell_type": "markdown",
   "id": "b3594496-b9f4-4c0c-b2b7-0f9c50ba64cf",
   "metadata": {},
   "source": [
    "_Remarque_ : Il existe également une implémentation de Pyro, NumPyro, qui utilise JAX à la place de PyTorch https://num.pyro.ai/"
   ]
  },
  {
   "cell_type": "markdown",
   "id": "83244274-7a36-42fe-ba62-478f10aa0221",
   "metadata": {},
   "source": [
    "## Exercice 2 : Titanic\n",
    "\n",
    "Adapté de https://www.kaggle.com/c/titanic/\n",
    "\n",
    "**Objectif.** L'objectif de cet exercice est de prédire si un passager va survivre au naufrage du Titanic en fonction de données telles que son âge, son sexe, ou le prix de son billet.\n",
    "\n",
    "Les données sont les suivantes."
   ]
  },
  {
   "cell_type": "code",
   "execution_count": null,
   "id": "d7755422-b74d-4992-afd2-da693b1b089b",
   "metadata": {},
   "outputs": [],
   "source": [
    "import pandas as pd\n",
    "\n",
    "raw = pd.read_csv(\"titanic.csv\")\n",
    "df = raw.loc[:,[\"Survived\"]]\n",
    "df[\"Sex\"] = raw[\"Sex\"].apply(lambda s: 0 if s == \"male\" else 1)\n",
    "df[\"Age\"] = raw[\"Age\"].fillna(raw[\"Age\"].median())\n",
    "df[\"Fare\"] = raw[\"Fare\"].fillna(raw[\"Fare\"].median())\n",
    "\n",
    "# Dictionnary contaning all the data as torch tensors\n",
    "data = { \n",
    "    k : torch.tensor(df[k]).double()\n",
    "    for k in df.columns    \n",
    "}\n",
    "\n",
    "df"
   ]
  },
  {
   "cell_type": "markdown",
   "id": "7a9610ff-0fb6-4bea-8c95-34c92121afab",
   "metadata": {},
   "source": [
    "**Question 1.** Proposer un modèle de régression logistique pour prédire la survie d'un passager.\n",
    "\n",
    "_Note_ Une régression logistique est similaire à une régression linéaire pour les problèmes de classification.\n",
    "Le modèle général est le suivant.\n",
    "\n",
    "\\begin{align*}\n",
    "a &\\sim \\mathcal{N}(0, 1)\\\\\n",
    "b &\\sim \\mathcal{N}(0, 1)\\\\\n",
    "l &= a x + b\\\\\n",
    "z &= \\frac{1}{1 + e^{-l}}\\\\\n",
    "y &\\sim \\mathit{Bernoulli}(z)\n",
    "\\end{align*}\n",
    "\n",
    "Ici les données $x$ se décomposent en $x_{\\mathrm{age}}$, $x_{\\mathrm{sex}}$ et $x_{\\mathrm{fare}}$.\n",
    "On cherche donc une régression linéaire de la forme \n",
    "\n",
    "$$\n",
    "l = a_{\\mathrm{age}} * x_{\\mathrm{age}} + a_{\\mathrm{sex}} * x_{\\mathrm{sex}} + a_{\\mathrm{fare}} * x_{\\mathrm{fare}} + b\n",
    "$$"
   ]
  },
  {
   "cell_type": "code",
   "execution_count": null,
   "id": "ffeb2cee-7367-4bf6-bb68-3953ac93f4e0",
   "metadata": {},
   "outputs": [],
   "source": [
    "def model(data):\n",
    "    # TODO"
   ]
  },
  {
   "cell_type": "markdown",
   "id": "f7bce9c5-cc9d-4deb-a60c-af76a5dcf655",
   "metadata": {},
   "source": [
    "**Question 2.** Executer l'inférence de votre choix sur votre modèle avec les données `data`."
   ]
  },
  {
   "cell_type": "code",
   "execution_count": null,
   "id": "ddbeb7b0-2c95-4939-92c4-3ba0ad315997",
   "metadata": {},
   "outputs": [],
   "source": [
    "# TODO"
   ]
  },
  {
   "cell_type": "code",
   "execution_count": null,
   "id": "94c493f3-2d5b-4ac3-9cf4-302d4e693fa0",
   "metadata": {},
   "outputs": [],
   "source": [
    "# TODO"
   ]
  },
  {
   "cell_type": "markdown",
   "id": "5c621cca-fe58-41c5-93db-d19c5b36afd5",
   "metadata": {},
   "source": [
    "**Question 3.** Exploiter les résultats obtenus pour faire des prédictions sur le même jeux de données.\n",
    "\n",
    "_Note_: On pourra utiliser l'outil `Predictive` de Pyro. \n",
    "Étant donné un modèle `model` et un ensemble d'échantillons de la distribution a posteriori `samples`, \n",
    "`Predictive(model, samples).forward(data)` génère de nouvelles valeurs pour toutes les observations (si elles sont à `None` dans `data`).\n",
    "On peut ensuite moyenner ces échantillons pour obtenir une prédiction.\n",
    "Dans notre cas, on pourra utiliser `Predictive(model, samples).forward({**data, \"Survived\":None})` pour prédire la survie d'un passager"
   ]
  },
  {
   "cell_type": "code",
   "execution_count": null,
   "id": "9861e19f-a50a-4a3b-ab84-33a36299ee5f",
   "metadata": {},
   "outputs": [],
   "source": [
    "posterior_predictive = Predictive(model, samples).forward({**data, \"Survived\":None})"
   ]
  },
  {
   "cell_type": "code",
   "execution_count": null,
   "id": "b1db3215-879d-4de1-bf40-ce89404ba6a6",
   "metadata": {},
   "outputs": [],
   "source": [
    "df[\"Prediction\"] = # TODO"
   ]
  },
  {
   "cell_type": "markdown",
   "id": "90a9aeaa-b2e8-4000-8eb3-bb4fa25b25ca",
   "metadata": {},
   "source": [
    "**Question 5.** Quelle est la précision de votre modèle sur ce jeux de données ?"
   ]
  },
  {
   "cell_type": "code",
   "execution_count": null,
   "id": "6b0a8d93-6726-4891-8f9c-d78f6c1d27f5",
   "metadata": {},
   "outputs": [],
   "source": [
    "# TODO"
   ]
  },
  {
   "cell_type": "code",
   "execution_count": null,
   "id": "202dab66-c6b8-4d13-ab83-f8839bec6be2",
   "metadata": {},
   "outputs": [],
   "source": []
  }
 ],
 "metadata": {
  "kernelspec": {
   "display_name": "Python 3 (ipykernel)",
   "language": "python",
   "name": "python3"
  },
  "language_info": {
   "codemirror_mode": {
    "name": "ipython",
    "version": 3
   },
   "file_extension": ".py",
   "mimetype": "text/x-python",
   "name": "python",
   "nbconvert_exporter": "python",
   "pygments_lexer": "ipython3",
   "version": "3.8.10"
  }
 },
 "nbformat": 4,
 "nbformat_minor": 5
}
